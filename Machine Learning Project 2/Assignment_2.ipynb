{
 "cells": [
  {
   "cell_type": "markdown",
   "id": "0f3c6334",
   "metadata": {},
   "source": [
    "Disclaimer: All the computation times are calculated on our computers so they can change but the proportions should remain the same."
   ]
  },
  {
   "cell_type": "code",
   "execution_count": 1,
   "id": "df9b6fc4",
   "metadata": {},
   "outputs": [],
   "source": [
    "import numpy as np\n",
    "import matplotlib.pyplot as plt\n",
    "from PIL import Image, ImageOps\n",
    "from sklearn.svm import SVC\n",
    "from sklearn.metrics import accuracy_score\n",
    "from scipy.stats import multivariate_normal\n",
    "from sklearn.discriminant_analysis import LinearDiscriminantAnalysis as LDA\n",
    "from sklearn.decomposition import PCA\n",
    "from sklearn.metrics.pairwise import laplacian_kernel,rbf_kernel\n",
    "from sklearn.model_selection import GridSearchCV\n",
    "import time\n"
   ]
  },
  {
   "cell_type": "markdown",
   "id": "d69e16d1",
   "metadata": {},
   "source": [
    "**A)** We chose 30 and 0 as our two classes."
   ]
  },
  {
   "cell_type": "code",
   "execution_count": 2,
   "id": "84bb0d3a",
   "metadata": {},
   "outputs": [],
   "source": [
    "\n",
    "orientations_train=np.load(\"orientations_train.npy\")\n",
    "\n",
    "indices=[]\n",
    "y=[]\n",
    "for i in range(len(orientations_train)):\n",
    "    if(orientations_train[i]==30 or orientations_train[i]==0):\n",
    "        indices.append(i)\n",
    "        y.append(orientations_train[i])\n",
    "\n",
    "y=np.array(y)/15-1\n",
    "X=[]\n",
    "for i in indices:\n",
    "    a= Image.open(\"3dshapes_train/\"+str(i)+\".jpg\")\n",
    "    b= ImageOps.grayscale(a)\n",
    "    image_array= np.array(b)\n",
    "    image_array=image_array/255\n",
    "    # portions of the image we used as feature\n",
    "    crop_left=image_array[12:30,0:10]  \n",
    "    crop_right=image_array[12:30,54:64] \n",
    "    flattened_crop_left=crop_left.flatten()\n",
    "    flattened_crop_right=crop_right.flatten()\n",
    "    flattened_crop=np.concatenate((flattened_crop_left,flattened_crop_right))\n",
    "    X.append(flattened_crop)\n",
    "    \n",
    "X=np.array(X)\n",
    "\n",
    "orientations_test=np.load(\"orientations_test.npy\")\n",
    "indices_test=[]\n",
    "y_test=[]\n",
    "for i in range(len(orientations_test)):\n",
    "    if(orientations_test[i]==30 or orientations_test[i]==0):\n",
    "        indices_test.append(i)\n",
    "        y_test.append(orientations_test[i])\n",
    "y_test=np.array(y_test)/15-1\n",
    "X_test=[]\n",
    "for i in indices_test:\n",
    "    a= Image.open(\"3dshapes_test/\"+str(i)+\".jpg\")\n",
    "    b= ImageOps.grayscale(a)\n",
    "    image_array= np.array(b)\n",
    "    image_array=image_array/255\n",
    "    crop_left=image_array[12:30,0:10]  \n",
    "    crop_right=image_array[12:30,54:64] \n",
    "    flattened_crop_left=crop_left.flatten()\n",
    "    flattened_crop_right=crop_right.flatten()\n",
    "    flattened_crop=np.concatenate((flattened_crop_left,flattened_crop_right))\n",
    "    X_test.append(flattened_crop)\n",
    "\n",
    "X_test=np.array(X_test)"
   ]
  },
  {
   "cell_type": "markdown",
   "id": "28265b3d",
   "metadata": {},
   "source": [
    "We used grid search as our strategy to tune the hyperparameters. There are different parameter grids for lda case because the range of the input values change after lda. \"Only c\" grid is for soft margin linear model since it has no gamma paramter to tune. \"Only gamma\" grid is for hard margin polynomial and hard margin rbf models since we can't change C for hard margin."
   ]
  },
  {
   "cell_type": "code",
   "execution_count": 3,
   "id": "83a4eda8",
   "metadata": {},
   "outputs": [
    {
     "name": "stdout",
     "output_type": "stream",
     "text": [
      "Computation time:  0.1100001335144043 seconds\n"
     ]
    }
   ],
   "source": [
    "st=time.time()\n",
    "param_grid = {'gamma': [0.01, 0.1, 1], 'C': [1, 10, 100]}\n",
    "param_grid_only_c={\"C\": [1,10,100]}\n",
    "param_grid_only_gamma={\"gamma\": [0.01, 0.1, 1]}\n",
    "param_grid_lda= {'gamma': [0.00001,0.0001, 0.001], 'C': [1, 10, 100]}\n",
    "param_grid_lda_only_gamma={\"gamma\": [0.00001, 0.0001, 0.001]}\n",
    "svcBinary_Classifier=SVC(kernel=\"linear\")\n",
    "grid_search= GridSearchCV(svcBinary_Classifier,param_grid_only_c,cv=5)\n",
    "grid_search.fit(X,y)\n",
    "et=time.time()\n",
    "print(\"Computation time: \", (et-st),\"seconds\")"
   ]
  },
  {
   "cell_type": "code",
   "execution_count": 4,
   "id": "15e7eff8",
   "metadata": {
    "scrolled": true
   },
   "outputs": [
    {
     "name": "stdout",
     "output_type": "stream",
     "text": [
      "Best parameters:  {'C': 1}\n",
      "Test accuracy:  1.0\n"
     ]
    }
   ],
   "source": [
    "y_prediction = grid_search.predict(X_test)\n",
    "print(\"Best parameters: \", grid_search.best_params_)\n",
    "print(\"Test accuracy: \",accuracy_score(y_prediction, y_test))"
   ]
  },
  {
   "cell_type": "code",
   "execution_count": 5,
   "id": "958882b6",
   "metadata": {},
   "outputs": [],
   "source": [
    "X_multi=[]\n",
    "\n",
    "for i in range(10000):\n",
    "    a= Image.open(\"3dshapes_train/\"+str(i)+\".jpg\")\n",
    "    b= ImageOps.grayscale(a)\n",
    "    image_array= np.array(b)\n",
    "    image_array=image_array/255\n",
    "    # portions of the image we used as feature\n",
    "    crop_left=image_array[12:30,0:10]  \n",
    "    crop_right=image_array[12:30,54:64] \n",
    "    flattened_crop_left=crop_left.flatten()\n",
    "    flattened_crop_right=crop_right.flatten()\n",
    "    flattened_crop=np.concatenate((flattened_crop_left,flattened_crop_right))\n",
    "    X_multi.append(flattened_crop)\n",
    "\n",
    "X_multi=np.array(X_multi)\n",
    "y_multi=orientations_train*14/60+7  # to turn classes into 0,1,2,... 14\n",
    "\n",
    "X_multi_test=[]\n",
    "for i in range(1000):\n",
    "    a= Image.open(\"3dshapes_test/\"+str(i)+\".jpg\")\n",
    "    b= ImageOps.grayscale(a)\n",
    "    image_array= np.array(b)\n",
    "    image_array=image_array/255\n",
    "    crop_left=image_array[12:30,0:10]  \n",
    "    crop_right=image_array[12:30,54:64] \n",
    "    flattened_crop_left=crop_left.flatten()\n",
    "    flattened_crop_right=crop_right.flatten()\n",
    "    flattened_crop=np.concatenate((flattened_crop_left,flattened_crop_right))\n",
    "    X_multi_test.append(flattened_crop)\n",
    "\n",
    "X_multi_test=np.array(X_multi_test)\n",
    "y_multi_test=orientations_test*14/60+7"
   ]
  },
  {
   "cell_type": "code",
   "execution_count": 6,
   "id": "c02a860d",
   "metadata": {},
   "outputs": [
    {
     "name": "stdout",
     "output_type": "stream",
     "text": [
      "Computation time:  4.959575891494751 seconds\n"
     ]
    }
   ],
   "source": [
    "st=time.time()\n",
    "svcMulti_Classifier=SVC(kernel=\"linear\")\n",
    "grid_search= GridSearchCV(svcMulti_Classifier,param_grid_only_c,cv=5)\n",
    "grid_search.fit(X_multi,y_multi)\n",
    "et=time.time()\n",
    "\n",
    "print(\"Computation time: \", (et-st), \"seconds\")"
   ]
  },
  {
   "cell_type": "markdown",
   "id": "dd60dc8c",
   "metadata": {},
   "source": [
    "Computation time for the multi class case is much higher than the binary class case. This is because when there are 15 class multi classification problem, 15.14/2 binary classifiers are created and trained (one versus one approach). "
   ]
  },
  {
   "cell_type": "code",
   "execution_count": 7,
   "id": "2ab6fa52",
   "metadata": {
    "scrolled": false
   },
   "outputs": [
    {
     "name": "stdout",
     "output_type": "stream",
     "text": [
      "Best C value:  1\n",
      "Test accuracy:  1.0\n"
     ]
    }
   ],
   "source": [
    "y_prediction = grid_search.predict(X_multi_test)\n",
    "print(\"Best C value: \", grid_search.best_params_['C'])\n",
    "print(\"Test accuracy: \",accuracy_score(y_prediction, y_multi_test))"
   ]
  },
  {
   "cell_type": "markdown",
   "id": "6bb96b10",
   "metadata": {},
   "source": [
    "**B)  Binary with original features section**"
   ]
  },
  {
   "cell_type": "code",
   "execution_count": 8,
   "id": "c0985f71",
   "metadata": {},
   "outputs": [
    {
     "name": "stdout",
     "output_type": "stream",
     "text": [
      "Best parameters:  {'C': 1}\n",
      "Test accuracy:  1.0\n",
      "No parameters to tune for hard margin linear svm\n",
      "Test accuracy:  1.0\n",
      "Best parameters:  {'C': 1, 'gamma': 0.01}\n",
      "Test accuracy:  1.0\n",
      "Best parameters:  {'gamma': 0.01}\n",
      "Test accuracy:  1.0\n",
      "Best parameters:  {'C': 1, 'gamma': 0.01}\n",
      "Test accuracy:  1.0\n",
      "Best parameters:  {'gamma': 0.01}\n",
      "Test accuracy:  1.0\n",
      "Computation time:  0.9297189712524414  seconds\n"
     ]
    }
   ],
   "source": [
    "st=time.time()\n",
    "Soft_margin_b=SVC(kernel=\"linear\")\n",
    "grid_search= GridSearchCV(Soft_margin_b,param_grid_only_c,cv=5)\n",
    "grid_search.fit(X,y)\n",
    "\n",
    "y_prediction = grid_search.predict(X_test)\n",
    "print(\"Best parameters: \",grid_search.best_params_)\n",
    "print(\"Test accuracy: \",accuracy_score(y_prediction, y_test))\n",
    "\n",
    "Hard_margin_b=SVC(C=1e10,kernel=\"linear\")\n",
    "Hard_margin_b.fit(X,y)\n",
    "\n",
    "y_prediction=Hard_margin_b.predict(X_test)\n",
    "print(\"No parameters to tune for hard margin linear svm\")\n",
    "print(\"Test accuracy: \", accuracy_score(y_prediction,y_test))\n",
    "\n",
    "Soft_margin_poly_b=SVC(kernel=\"poly\",degree=3,coef0=1)\n",
    "grid_search= GridSearchCV(Soft_margin_poly_b,param_grid,cv=5)\n",
    "grid_search.fit(X,y)\n",
    "\n",
    "y_prediction = grid_search.predict(X_test)\n",
    "print(\"Best parameters: \",grid_search.best_params_)\n",
    "print(\"Test accuracy: \",accuracy_score(y_prediction, y_test))\n",
    "\n",
    "Hard_margin_poly_b=SVC(C=1e10,kernel=\"poly\",degree=3,coef0=1)\n",
    "grid_search= GridSearchCV(Hard_margin_poly_b,param_grid_only_gamma,cv=5)\n",
    "grid_search.fit(X,y)\n",
    "\n",
    "y_prediction = grid_search.predict(X_test)\n",
    "print(\"Best parameters: \",grid_search.best_params_)\n",
    "print(\"Test accuracy: \",accuracy_score(y_prediction, y_test))\n",
    "\n",
    "Soft_margin_rbf_b=SVC(kernel=\"rbf\")\n",
    "grid_search= GridSearchCV(Soft_margin_rbf_b,param_grid,cv=5)\n",
    "grid_search.fit(X,y)\n",
    "\n",
    "y_prediction = grid_search.predict(X_test)\n",
    "print(\"Best parameters: \",grid_search.best_params_)\n",
    "print(\"Test accuracy: \",accuracy_score(y_prediction, y_test))\n",
    "\n",
    "Hard_margin_rbf_b=SVC(C=1e10,kernel=\"rbf\")\n",
    "grid_search= GridSearchCV(Hard_margin_rbf_b,param_grid_only_gamma,cv=5)\n",
    "grid_search.fit(X,y)\n",
    "\n",
    "y_prediction = grid_search.predict(X_test)\n",
    "print(\"Best parameters: \",grid_search.best_params_)\n",
    "print(\"Test accuracy: \",accuracy_score(y_prediction, y_test))\n",
    "\n",
    "et=time.time()\n",
    "print(\"Computation time: \", et-st,\" seconds\")"
   ]
  },
  {
   "cell_type": "markdown",
   "id": "9ba3fd07",
   "metadata": {},
   "source": [
    "For the laplacian kernel we couldn't use grid search because laplacian is not one of the choices for kernel function in SVMs.\n",
    "So we decided on gamma ourselves by taking the range of the input values into account."
   ]
  },
  {
   "cell_type": "code",
   "execution_count": 9,
   "id": "b1e6027d",
   "metadata": {},
   "outputs": [
    {
     "name": "stdout",
     "output_type": "stream",
     "text": [
      "Computation time:  0.3045082092285156 seconds\n"
     ]
    }
   ],
   "source": [
    "st=time.time()\n",
    "\n",
    "gram_train=laplacian_kernel(X,gamma=1)\n",
    "gram_test=laplacian_kernel(X_test,X,gamma=1)\n",
    "\n",
    "\n",
    "et=time.time()\n",
    "print(\"Computation time: \", et-st, \"seconds\")"
   ]
  },
  {
   "cell_type": "code",
   "execution_count": 10,
   "id": "0af78549",
   "metadata": {},
   "outputs": [
    {
     "name": "stdout",
     "output_type": "stream",
     "text": [
      "Computation time:  0.006806135177612305 seconds\n"
     ]
    }
   ],
   "source": [
    "st=time.time()\n",
    "Soft_margin_laplace_b=SVC(C=1,kernel=\"precomputed\")\n",
    "Soft_margin_laplace_b.fit(gram_train,y)\n",
    "\n",
    "Hard_margin_laplace_b=SVC(C=1e10,kernel=\"precomputed\")\n",
    "Hard_margin_laplace_b.fit(gram_train,y)\n",
    "\n",
    "et=time.time()\n",
    "print(\"Computation time: \", et-st, \"seconds\")"
   ]
  },
  {
   "cell_type": "code",
   "execution_count": 11,
   "id": "7b09e37b",
   "metadata": {},
   "outputs": [
    {
     "name": "stdout",
     "output_type": "stream",
     "text": [
      "Test accuracy:  1.0\n",
      "Test accuracy:  1.0\n"
     ]
    }
   ],
   "source": [
    "\n",
    "y_prediction=Soft_margin_laplace_b.predict(gram_test)\n",
    "print(\"Test accuracy: \", accuracy_score(y_prediction,y_test))\n",
    "\n",
    "y_prediction=Hard_margin_laplace_b.predict(gram_test)\n",
    "print(\"Test accuracy: \", accuracy_score(y_prediction,y_test))"
   ]
  },
  {
   "cell_type": "markdown",
   "id": "325b3a65",
   "metadata": {},
   "source": [
    "**Multi class with original features section**"
   ]
  },
  {
   "cell_type": "code",
   "execution_count": 12,
   "id": "4205c568",
   "metadata": {},
   "outputs": [
    {
     "name": "stdout",
     "output_type": "stream",
     "text": [
      "Best parameters:  {'C': 1}\n",
      "Test accuracy:  1.0\n",
      "No parameters to tune for hard margin linear svm\n",
      "Test accuracy:  1.0\n",
      "Best parameters:  {'C': 1, 'gamma': 0.01}\n",
      "Test accuracy:  1.0\n",
      "Best parameters:  {'gamma': 0.01}\n",
      "Test accuracy:  1.0\n",
      "Best parameters:  {'C': 1, 'gamma': 1}\n",
      "Test accuracy:  1.0\n",
      "Best parameters:  {'gamma': 0.01}\n",
      "Test accuracy:  1.0\n",
      "Computation time:  67.21985530853271 seconds\n"
     ]
    }
   ],
   "source": [
    "st=time.time()\n",
    "Soft_margin_m=SVC(kernel=\"linear\")\n",
    "grid_search= GridSearchCV(Soft_margin_m,param_grid_only_c,cv=5)\n",
    "grid_search.fit(X_multi,y_multi)\n",
    "\n",
    "y_prediction = grid_search.predict(X_multi_test)\n",
    "print(\"Best parameters: \",grid_search.best_params_)\n",
    "print(\"Test accuracy: \",accuracy_score(y_prediction, y_multi_test))\n",
    "\n",
    "Hard_margin_m=SVC(C=1e10,kernel=\"linear\")\n",
    "Hard_margin_m.fit(X_multi,y_multi)\n",
    "\n",
    "y_prediction=Hard_margin_m.predict(X_multi_test)\n",
    "print(\"No parameters to tune for hard margin linear svm\")\n",
    "print(\"Test accuracy: \", accuracy_score(y_prediction,y_multi_test))\n",
    "\n",
    "Soft_margin_poly_m=SVC(kernel=\"poly\",degree=3,coef0=1)\n",
    "grid_search= GridSearchCV(Soft_margin_poly_m,param_grid,cv=5)\n",
    "grid_search.fit(X_multi,y_multi)\n",
    "\n",
    "y_prediction = grid_search.predict(X_multi_test)\n",
    "print(\"Best parameters: \",grid_search.best_params_)\n",
    "print(\"Test accuracy: \",accuracy_score(y_prediction, y_multi_test))\n",
    "\n",
    "Hard_margin_poly_m=SVC(C=1e10,kernel=\"poly\",degree=3,coef0=1)\n",
    "grid_search= GridSearchCV(Hard_margin_poly_m,param_grid_only_gamma,cv=5)\n",
    "grid_search.fit(X_multi,y_multi)\n",
    "\n",
    "y_prediction = grid_search.predict(X_multi_test)\n",
    "print(\"Best parameters: \",grid_search.best_params_)\n",
    "print(\"Test accuracy: \",accuracy_score(y_prediction, y_multi_test))\n",
    "\n",
    "Soft_margin_rbf_m=SVC(kernel=\"rbf\")  \n",
    "grid_search= GridSearchCV(Soft_margin_rbf_m,param_grid,cv=5)\n",
    "grid_search.fit(X_multi,y_multi)\n",
    "\n",
    "y_prediction = grid_search.predict(X_multi_test)\n",
    "print(\"Best parameters: \",grid_search.best_params_)\n",
    "print(\"Test accuracy: \",accuracy_score(y_prediction, y_multi_test))\n",
    "\n",
    "Hard_margin_rbf_m=SVC(C=1e10,kernel=\"rbf\")\n",
    "grid_search= GridSearchCV(Hard_margin_rbf_m,param_grid_only_gamma,cv=5)\n",
    "grid_search.fit(X_multi,y_multi)\n",
    "\n",
    "y_prediction = grid_search.predict(X_multi_test)\n",
    "print(\"Best parameters: \",grid_search.best_params_)\n",
    "print(\"Test accuracy: \",accuracy_score(y_prediction, y_multi_test))\n",
    "\n",
    "et=time.time()\n",
    "print(\"Computation time: \", et-st, \"seconds\")"
   ]
  },
  {
   "cell_type": "code",
   "execution_count": 13,
   "id": "c14a1a5b",
   "metadata": {},
   "outputs": [
    {
     "name": "stdout",
     "output_type": "stream",
     "text": [
      "Computation time:  23.568350315093994 seconds\n"
     ]
    }
   ],
   "source": [
    "st=time.time()\n",
    "gram_multi_train=laplacian_kernel(X_multi,gamma=1)\n",
    "gram_multi_test=laplacian_kernel(X_multi_test,X_multi,gamma=1)\n",
    "et=time.time()\n",
    "print(\"Computation time: \", et-st, \"seconds\")"
   ]
  },
  {
   "cell_type": "code",
   "execution_count": 14,
   "id": "3f937969",
   "metadata": {},
   "outputs": [
    {
     "name": "stdout",
     "output_type": "stream",
     "text": [
      "Computation time:  0.381608247756958 seconds\n"
     ]
    }
   ],
   "source": [
    "st=time.time()\n",
    "\n",
    "Soft_margin_laplace_m=SVC(C=1,kernel=\"precomputed\")\n",
    "Soft_margin_laplace_m.fit(gram_multi_train,y_multi)\n",
    "\n",
    "Hard_margin_laplace_m=SVC(C=1e10,kernel=\"precomputed\")\n",
    "Hard_margin_laplace_m.fit(gram_multi_train,y_multi)\n",
    "\n",
    "et=time.time()\n",
    "print(\"Computation time: \", et-st, \"seconds\")"
   ]
  },
  {
   "cell_type": "code",
   "execution_count": 15,
   "id": "e3629427",
   "metadata": {
    "scrolled": true
   },
   "outputs": [
    {
     "name": "stdout",
     "output_type": "stream",
     "text": [
      "Test accuracy:  1.0\n",
      "Test accuracy:  1.0\n"
     ]
    }
   ],
   "source": [
    "\n",
    "y_prediction=Soft_margin_laplace_m.predict(gram_multi_test)\n",
    "print(\"Test accuracy: \", accuracy_score(y_prediction,y_multi_test))\n",
    "\n",
    "y_prediction=Hard_margin_laplace_m.predict(gram_multi_test)\n",
    "print(\"Test accuracy: \", accuracy_score(y_prediction,y_multi_test))"
   ]
  },
  {
   "cell_type": "markdown",
   "id": "d4046a47",
   "metadata": {},
   "source": [
    "**LDA features section**"
   ]
  },
  {
   "cell_type": "markdown",
   "id": "5c278010",
   "metadata": {},
   "source": [
    "Here we start to try another feature extraction method, LDA. We used n_components=1 since n_components can be at most 1 due to number of classes being 2."
   ]
  },
  {
   "cell_type": "code",
   "execution_count": 16,
   "id": "d4279ed2",
   "metadata": {},
   "outputs": [
    {
     "name": "stdout",
     "output_type": "stream",
     "text": [
      "Shape before: (1358, 4096) Shape after: (1358, 1) Max: 242.35327314992452 Min: -257.61717220182686\n",
      "Computation time:  2.044309616088867 seconds\n"
     ]
    }
   ],
   "source": [
    "\n",
    "X_full=[]\n",
    "for i in indices:\n",
    "    a= Image.open(\"3dshapes_train/\"+str(i)+\".jpg\")\n",
    "    b= ImageOps.grayscale(a)\n",
    "    image_array= np.array(b)\n",
    "    image_array=image_array/255\n",
    "    image_array=image_array.flatten()\n",
    "    X_full.append(image_array)\n",
    "\n",
    "st=time.time()\n",
    "\n",
    "X_full=np.array(X_full)\n",
    "lda=LDA(n_components=1)\n",
    "X_lda=lda.fit_transform(X_full,y)\n",
    "\n",
    "print(\"Shape before:\", X_full.shape, \"Shape after:\", X_lda.shape, \"Max:\", np.max(X_lda), \"Min:\", np.min(X_lda))\n",
    "\n",
    "et=time.time()\n",
    "print(\"Computation time: \", et-st, \"seconds\")\n"
   ]
  },
  {
   "cell_type": "markdown",
   "id": "1731f094",
   "metadata": {},
   "source": [
    "Here the range of values in the input changed from 0,1 to -250,250."
   ]
  },
  {
   "cell_type": "code",
   "execution_count": 17,
   "id": "55dcd53c",
   "metadata": {},
   "outputs": [],
   "source": [
    "X_test_full=[]\n",
    "for i in indices_test:\n",
    "    a= Image.open(\"3dshapes_test/\"+str(i)+\".jpg\")\n",
    "    b= ImageOps.grayscale(a)\n",
    "    image_array= np.array(b)\n",
    "    image_array=image_array/255\n",
    "    image_array=image_array.flatten()\n",
    "    X_test_full.append(image_array)\n",
    "\n",
    "X_test_full=np.array(X_test_full)\n",
    "X_lda_test=lda.transform(X_test_full)\n",
    "\n",
    "\n"
   ]
  },
  {
   "cell_type": "code",
   "execution_count": 18,
   "id": "fc1203be",
   "metadata": {},
   "outputs": [
    {
     "name": "stdout",
     "output_type": "stream",
     "text": [
      "Computation time:  0.019576549530029297 seconds\n"
     ]
    }
   ],
   "source": [
    "st=time.time()\n",
    "\n",
    "svcBinary_Classifier=SVC(kernel=\"linear\")\n",
    "grid_search= GridSearchCV(svcBinary_Classifier,param_grid_only_c,cv=5)\n",
    "grid_search.fit(X_lda,y)\n",
    "\n",
    "et=time.time()\n",
    "print(\"Computation time: \", et-st, \"seconds\")"
   ]
  },
  {
   "cell_type": "code",
   "execution_count": 19,
   "id": "e87c512a",
   "metadata": {},
   "outputs": [
    {
     "name": "stdout",
     "output_type": "stream",
     "text": [
      "Best parameters:  {'C': 1}\n",
      "Test accuracy:  1.0\n"
     ]
    }
   ],
   "source": [
    "y_prediction = grid_search.predict(X_lda_test)\n",
    "print(\"Best parameters: \", grid_search.best_params_)\n",
    "print(\"Test accuracy: \",accuracy_score(y_prediction, y_test))"
   ]
  },
  {
   "cell_type": "markdown",
   "id": "e7d0236c",
   "metadata": {},
   "source": [
    "We used n_components = 14 for the multi class case since the number of classes is 15 and 14 is the most we can use in lda."
   ]
  },
  {
   "cell_type": "code",
   "execution_count": 20,
   "id": "bcfdeddb",
   "metadata": {},
   "outputs": [
    {
     "name": "stdout",
     "output_type": "stream",
     "text": [
      "Shape before: (10000, 4096) Shape after: (10000, 14) Max: 7378.75829619423 Min: -10750.07286307262\n",
      "Computation time:  21.025082111358643 seconds\n"
     ]
    }
   ],
   "source": [
    "\n",
    "X_multi_full=[]\n",
    "\n",
    "for i in range(10000):\n",
    "    a= Image.open(\"3dshapes_train/\"+str(i)+\".jpg\")\n",
    "    b= ImageOps.grayscale(a)\n",
    "    image_array= np.array(b)\n",
    "    image_array=image_array/255\n",
    "    image_array=image_array.flatten()\n",
    "    X_multi_full.append(image_array)\n",
    "\n",
    "st=time.time()\n",
    "\n",
    "X_multi_full=np.array(X_multi_full)\n",
    "lda_multi=LDA(n_components=14)\n",
    "X_lda_multi=lda_multi.fit_transform(X_multi_full,y_multi)\n",
    "\n",
    "print(\"Shape before:\", X_multi_full.shape, \"Shape after:\", X_lda_multi.shape,\"Max:\",np.max(X_lda_multi),\n",
    "      \"Min:\",np.min(X_lda_multi),)\n",
    "\n",
    "et=time.time()\n",
    "print(\"Computation time: \", et-st, \"seconds\")\n"
   ]
  },
  {
   "cell_type": "markdown",
   "id": "57015156",
   "metadata": {},
   "source": [
    "Here the range of values in the input changed from 0,1 to -10000,7500."
   ]
  },
  {
   "cell_type": "code",
   "execution_count": 21,
   "id": "78531256",
   "metadata": {},
   "outputs": [
    {
     "name": "stdout",
     "output_type": "stream",
     "text": [
      "Computation time:  0.019583463668823242 seconds\n"
     ]
    }
   ],
   "source": [
    "\n",
    "X_multi_test_full=[]\n",
    "for i in range(1000):\n",
    "    a= Image.open(\"3dshapes_test/\"+str(i)+\".jpg\")\n",
    "    b= ImageOps.grayscale(a)\n",
    "    image_array= np.array(b)\n",
    "    image_array=image_array/255\n",
    "    image_array=image_array.flatten()\n",
    "    X_multi_test_full.append(image_array)\n",
    "\n",
    "st=time.time()\n",
    "\n",
    "X_multi_test_full=np.array(X_multi_test_full)\n",
    "X_lda_multi_test=lda_multi.transform(X_multi_test_full)\n",
    "\n",
    "et=time.time()\n",
    "print(\"Computation time: \", et-st, \"seconds\")"
   ]
  },
  {
   "cell_type": "code",
   "execution_count": 22,
   "id": "ad3db33d",
   "metadata": {},
   "outputs": [
    {
     "name": "stdout",
     "output_type": "stream",
     "text": [
      "Computation time:  0.2903482913970947 seconds\n"
     ]
    }
   ],
   "source": [
    "st=time.time()\n",
    "\n",
    "svcMulti_Classifier=SVC(C=1,kernel=\"linear\")\n",
    "grid_search= GridSearchCV(svcMulti_Classifier,param_grid_only_c,cv=5)\n",
    "grid_search.fit(X_lda_multi,y_multi)\n",
    "\n",
    "et=time.time()\n",
    "print(\"Computation time: \", et-st, \"seconds\")"
   ]
  },
  {
   "cell_type": "code",
   "execution_count": 23,
   "id": "fb014451",
   "metadata": {
    "scrolled": true
   },
   "outputs": [
    {
     "name": "stdout",
     "output_type": "stream",
     "text": [
      "Best C value:  1\n",
      "Test accuracy:  1.0\n"
     ]
    }
   ],
   "source": [
    "y_prediction = grid_search.predict(X_lda_multi_test)\n",
    "print(\"Best C value: \", grid_search.best_params_['C'])\n",
    "print(\"Test accuracy: \",accuracy_score(y_prediction, y_multi_test))"
   ]
  },
  {
   "cell_type": "markdown",
   "id": "340eb4c5",
   "metadata": {},
   "source": [
    "**Binary with LDA features section**"
   ]
  },
  {
   "cell_type": "code",
   "execution_count": 24,
   "id": "c304e9ae",
   "metadata": {},
   "outputs": [
    {
     "name": "stdout",
     "output_type": "stream",
     "text": [
      "Best parameters:  {'C': 1}\n",
      "Test accuracy:  1.0\n",
      "No parameters to tune for hard margin linear svm\n",
      "Test accuracy:  1.0\n",
      "Best parameters:  {'C': 1, 'gamma': 1e-05}\n",
      "Test accuracy:  1.0\n",
      "Best parameters:  {'gamma': 1e-05}\n",
      "Test accuracy:  1.0\n",
      "Best parameters:  {'C': 1, 'gamma': 1e-05}\n",
      "Test accuracy:  1.0\n",
      "Best parameters:  {'gamma': 1e-05}\n",
      "Test accuracy:  1.0\n",
      "Computation time:  0.16651344299316406 seconds\n"
     ]
    }
   ],
   "source": [
    "st=time.time()\n",
    "\n",
    "Soft_margin_b=SVC(kernel=\"linear\")\n",
    "grid_search= GridSearchCV(Soft_margin_b,param_grid_only_c,cv=5)\n",
    "grid_search.fit(X_lda,y)\n",
    "\n",
    "y_prediction = grid_search.predict(X_lda_test)\n",
    "print(\"Best parameters: \",grid_search.best_params_)\n",
    "print(\"Test accuracy: \",accuracy_score(y_prediction, y_test))\n",
    "\n",
    "Hard_margin_b=SVC(C=1e10,kernel=\"linear\")\n",
    "Hard_margin_b.fit(X_lda,y)\n",
    "\n",
    "y_prediction=Hard_margin_b.predict(X_lda_test)\n",
    "print(\"No parameters to tune for hard margin linear svm\")\n",
    "print(\"Test accuracy: \", accuracy_score(y_prediction,y_test))\n",
    "\n",
    "Soft_margin_poly_b=SVC(kernel=\"poly\",degree=3,coef0=1)\n",
    "grid_search= GridSearchCV(Soft_margin_poly_b,param_grid_lda,cv=5)\n",
    "grid_search.fit(X_lda,y)\n",
    "\n",
    "y_prediction = grid_search.predict(X_lda_test)\n",
    "print(\"Best parameters: \",grid_search.best_params_)\n",
    "print(\"Test accuracy: \",accuracy_score(y_prediction, y_test))\n",
    "\n",
    "Hard_margin_poly_b=SVC(C=1e10,kernel=\"poly\",degree=3,coef0=1)\n",
    "grid_search= GridSearchCV(Hard_margin_poly_b,param_grid_lda_only_gamma,cv=5)\n",
    "grid_search.fit(X_lda,y)\n",
    "\n",
    "y_prediction = grid_search.predict(X_lda_test)\n",
    "print(\"Best parameters: \",grid_search.best_params_)\n",
    "print(\"Test accuracy: \",accuracy_score(y_prediction, y_test))\n",
    "\n",
    "Soft_margin_rbf_b=SVC(kernel=\"rbf\")  \n",
    "grid_search= GridSearchCV(Soft_margin_rbf_b,param_grid_lda,cv=5)\n",
    "grid_search.fit(X_lda,y)\n",
    "\n",
    "y_prediction = grid_search.predict(X_lda_test)\n",
    "print(\"Best parameters: \",grid_search.best_params_)\n",
    "print(\"Test accuracy: \",accuracy_score(y_prediction, y_test))\n",
    "\n",
    "Hard_margin_rbf_b=SVC(C=1e10,kernel=\"rbf\")\n",
    "grid_search= GridSearchCV(Hard_margin_rbf_b,param_grid_lda_only_gamma,cv=5)\n",
    "grid_search.fit(X_lda,y)\n",
    "\n",
    "y_prediction = grid_search.predict(X_lda_test)\n",
    "print(\"Best parameters: \",grid_search.best_params_)\n",
    "print(\"Test accuracy: \",accuracy_score(y_prediction, y_test))\n",
    "\n",
    "et=time.time()\n",
    "print(\"Computation time: \", et-st, \"seconds\")"
   ]
  },
  {
   "cell_type": "code",
   "execution_count": 25,
   "id": "e3572890",
   "metadata": {},
   "outputs": [
    {
     "name": "stdout",
     "output_type": "stream",
     "text": [
      "Computation time:  0.020601272583007812 seconds\n"
     ]
    }
   ],
   "source": [
    "st=time.time()\n",
    "\n",
    "gram_lda_train=laplacian_kernel(X_lda,gamma=0.1)\n",
    "gram_lda_test=laplacian_kernel(X_lda_test,X_lda,gamma=0.1)\n",
    "\n",
    "et=time.time()\n",
    "print(\"Computation time: \", et-st, \"seconds\")"
   ]
  },
  {
   "cell_type": "code",
   "execution_count": 26,
   "id": "bb59163d",
   "metadata": {},
   "outputs": [
    {
     "data": {
      "text/plain": [
       "SVC(C=10000000000.0, kernel='precomputed')"
      ]
     },
     "execution_count": 26,
     "metadata": {},
     "output_type": "execute_result"
    }
   ],
   "source": [
    "Soft_margin_laplace_b=SVC(C=1,kernel=\"precomputed\")\n",
    "Soft_margin_laplace_b.fit(gram_lda_train,y)\n",
    "\n",
    "Hard_margin_laplace_b=SVC(C=1e10,kernel=\"precomputed\")\n",
    "Hard_margin_laplace_b.fit(gram_lda_train,y)"
   ]
  },
  {
   "cell_type": "code",
   "execution_count": 27,
   "id": "fe317622",
   "metadata": {},
   "outputs": [
    {
     "name": "stdout",
     "output_type": "stream",
     "text": [
      "Test accuracy: 1.0\n",
      "Test accuracy: 1.0\n"
     ]
    }
   ],
   "source": [
    "\n",
    "y_prediction=Soft_margin_laplace_b.predict(gram_lda_test)\n",
    "print(\"Test accuracy:\", accuracy_score(y_prediction,y_test))\n",
    "\n",
    "y_prediction=Hard_margin_laplace_b.predict(gram_lda_test)\n",
    "print(\"Test accuracy:\", accuracy_score(y_prediction,y_test))"
   ]
  },
  {
   "cell_type": "markdown",
   "id": "df909fd7",
   "metadata": {},
   "source": [
    "**Multi class with LDA features section**"
   ]
  },
  {
   "cell_type": "code",
   "execution_count": 28,
   "id": "1f004af1",
   "metadata": {
    "scrolled": true
   },
   "outputs": [
    {
     "name": "stdout",
     "output_type": "stream",
     "text": [
      "Best parameters:  {'C': 1}\n",
      "Test accuracy:  1.0\n",
      "No parameters to tune for hard margin linear svm\n",
      "Test accuracy:  1.0\n",
      "Best parameters:  {'C': 1, 'gamma': 1e-05}\n",
      "Test accuracy:  1.0\n",
      "Best parameters:  {'gamma': 1e-05}\n",
      "Test accuracy:  1.0\n",
      "Best parameters:  {'C': 1, 'gamma': 1e-05}\n",
      "Test accuracy:  1.0\n",
      "Best parameters:  {'gamma': 1e-05}\n",
      "Test accuracy:  1.0\n",
      "Computation time:  6.322326183319092 seconds\n"
     ]
    }
   ],
   "source": [
    "st=time.time()\n",
    "\n",
    "Soft_margin_m=SVC(kernel=\"linear\")\n",
    "grid_search= GridSearchCV(Soft_margin_m,param_grid_only_c,cv=5)\n",
    "grid_search.fit(X_lda_multi,y_multi)\n",
    "\n",
    "y_prediction = grid_search.predict(X_lda_multi_test)\n",
    "print(\"Best parameters: \",grid_search.best_params_)\n",
    "print(\"Test accuracy: \",accuracy_score(y_prediction, y_multi_test))\n",
    "\n",
    "Hard_margin_m=SVC(C=1e10,kernel=\"linear\")\n",
    "Hard_margin_m.fit(X_lda_multi,y_multi)\n",
    "\n",
    "y_prediction=Hard_margin_m.predict(X_lda_multi_test)\n",
    "print(\"No parameters to tune for hard margin linear svm\")\n",
    "print(\"Test accuracy: \", accuracy_score(y_prediction,y_multi_test))\n",
    "\n",
    "Soft_margin_poly_m=SVC(kernel=\"poly\",degree=3,coef0=1)\n",
    "grid_search= GridSearchCV(Soft_margin_poly_m,param_grid_lda,cv=5)\n",
    "grid_search.fit(X_lda_multi,y_multi)\n",
    "\n",
    "y_prediction = grid_search.predict(X_lda_multi_test)\n",
    "print(\"Best parameters: \",grid_search.best_params_)\n",
    "print(\"Test accuracy: \",accuracy_score(y_prediction, y_multi_test))\n",
    "\n",
    "Hard_margin_poly_m=SVC(C=1e10,kernel=\"poly\",degree=3,coef0=1)\n",
    "grid_search= GridSearchCV(Hard_margin_poly_m,param_grid_lda_only_gamma,cv=5)\n",
    "grid_search.fit(X_lda_multi,y_multi)\n",
    "\n",
    "y_prediction = grid_search.predict(X_lda_multi_test)\n",
    "print(\"Best parameters: \",grid_search.best_params_)\n",
    "print(\"Test accuracy: \",accuracy_score(y_prediction, y_multi_test))\n",
    "\n",
    "Soft_margin_rbf_m=SVC(kernel=\"rbf\")  \n",
    "grid_search= GridSearchCV(Soft_margin_rbf_m,param_grid_lda,cv=5)\n",
    "grid_search.fit(X_lda_multi,y_multi)\n",
    "\n",
    "y_prediction = grid_search.predict(X_lda_multi_test)\n",
    "print(\"Best parameters: \",grid_search.best_params_)\n",
    "print(\"Test accuracy: \",accuracy_score(y_prediction, y_multi_test))\n",
    "\n",
    "Hard_margin_rbf_m=SVC(C=1e10,kernel=\"rbf\")\n",
    "grid_search= GridSearchCV(Hard_margin_rbf_m,param_grid_lda_only_gamma,cv=5)\n",
    "grid_search.fit(X_lda_multi,y_multi)\n",
    "\n",
    "y_prediction = grid_search.predict(X_lda_multi_test)\n",
    "print(\"Best parameters: \",grid_search.best_params_)\n",
    "print(\"Test accuracy: \",accuracy_score(y_prediction, y_multi_test))\n",
    "\n",
    "et=time.time()\n",
    "print(\"Computation time: \", et-st, \"seconds\")"
   ]
  },
  {
   "cell_type": "markdown",
   "id": "b81c9552",
   "metadata": {},
   "source": [
    "Gamma is this low because the range of inputs is -10000,10000 at this point."
   ]
  },
  {
   "cell_type": "code",
   "execution_count": 29,
   "id": "0922a612",
   "metadata": {},
   "outputs": [
    {
     "name": "stdout",
     "output_type": "stream",
     "text": [
      "Computation time:  1.5996792316436768 seconds\n"
     ]
    }
   ],
   "source": [
    "st=time.time()\n",
    "\n",
    "gram_lda_multi_train=laplacian_kernel(X_lda_multi,gamma=0.001)\n",
    "gram_lda_multi_test=laplacian_kernel(X_lda_multi_test,X_lda_multi,gamma=0.001) \n",
    "\n",
    "et=time.time()\n",
    "print(\"Computation time: \", et-st, \"seconds\")"
   ]
  },
  {
   "cell_type": "code",
   "execution_count": 30,
   "id": "31f875a8",
   "metadata": {},
   "outputs": [
    {
     "name": "stdout",
     "output_type": "stream",
     "text": [
      "Computation time:  0.21384072303771973 seconds\n"
     ]
    }
   ],
   "source": [
    "st=time.time()\n",
    "\n",
    "Soft_margin_laplace_m=SVC(C=1,kernel=\"precomputed\")\n",
    "Soft_margin_laplace_m.fit(gram_lda_multi_train,y_multi)\n",
    "\n",
    "Hard_margin_laplace_m=SVC(C=1e10,kernel=\"precomputed\")\n",
    "Hard_margin_laplace_m.fit(gram_lda_multi_train,y_multi)\n",
    "\n",
    "et=time.time()\n",
    "print(\"Computation time: \", et-st, \"seconds\")"
   ]
  },
  {
   "cell_type": "code",
   "execution_count": 31,
   "id": "814b2fc2",
   "metadata": {},
   "outputs": [
    {
     "name": "stdout",
     "output_type": "stream",
     "text": [
      "Test accuracy:  1.0\n",
      "Test accuracy:  1.0\n"
     ]
    }
   ],
   "source": [
    "\n",
    "y_prediction=Soft_margin_laplace_m.predict(gram_lda_multi_test)\n",
    "print(\"Test accuracy: \", accuracy_score(y_prediction,y_multi_test))\n",
    "\n",
    "y_prediction=Hard_margin_laplace_m.predict(gram_lda_multi_test)\n",
    "print(\"Test accuracy: \", accuracy_score(y_prediction,y_multi_test))"
   ]
  },
  {
   "cell_type": "markdown",
   "id": "b28bf611",
   "metadata": {},
   "source": [
    "**C)** First we use PCA with our original features, and then we use PCA with LDA. In the first case we apply PCA after we obtain 360 dimensional features since our features are certain predefined portions of the original images. Had we applied PCA before obtaining our features, we wouldn't be able to get our features since we use the images directly. In the second case, we first apply PCA to 4096 dimensional flattened images then we apply LDA."
   ]
  },
  {
   "cell_type": "code",
   "execution_count": 32,
   "id": "c1996f84",
   "metadata": {},
   "outputs": [
    {
     "name": "stdout",
     "output_type": "stream",
     "text": [
      "Portion of the variance captured when we use 2 components (binary): 0.9869294252673708\n",
      "Portion of the variance captured when we use 10 components (multi class): 0.9894013668943324\n"
     ]
    }
   ],
   "source": [
    "\n",
    "pca_variance_check=PCA() \n",
    "X_try=pca_variance_check.fit_transform(X)\n",
    "explained_variance = pca_variance_check.explained_variance_ratio_\n",
    "print(\"Portion of the variance captured when we use 2 components (binary):\", explained_variance[:2].sum())\n",
    "\n",
    "pca_variance_check_multi=PCA()\n",
    "X_multi_try=pca_variance_check_multi.fit_transform(X_multi)\n",
    "\n",
    "explained_variance_multi=pca_variance_check_multi.explained_variance_ratio_\n",
    "print(\"Portion of the variance captured when we use 10 components (multi class):\", explained_variance_multi[:10].sum())"
   ]
  },
  {
   "cell_type": "markdown",
   "id": "f996a9a3",
   "metadata": {},
   "source": [
    "We used n_components=2 in pca for the dataset we use in binary classifcaiton and n_components=10 for the multi class case. We decided on these numbers by checking how much of the variance is captured."
   ]
  },
  {
   "cell_type": "markdown",
   "id": "f4aae971",
   "metadata": {},
   "source": [
    "**Binary with original features section**"
   ]
  },
  {
   "cell_type": "code",
   "execution_count": 33,
   "id": "98831741",
   "metadata": {},
   "outputs": [
    {
     "name": "stdout",
     "output_type": "stream",
     "text": [
      "Shape before: (1358, 360) Shape after: (1358, 2) Max 5.601714485012764 Min: -5.222541589978095\n",
      "Computation time:  0.0205843448638916 seconds\n"
     ]
    }
   ],
   "source": [
    "st=time.time()\n",
    "\n",
    "pca=PCA(n_components=2) \n",
    "\n",
    "X_pca=pca.fit_transform(X)\n",
    "X_pca_test=pca.transform(X_test)\n",
    "\n",
    "print(\"Shape before:\", X.shape,\"Shape after:\", X_pca.shape, \"Max\", np.max(X_pca), \"Min:\", np.min(X_pca))\n",
    "et=time.time()\n",
    "print(\"Computation time: \", et-st, \"seconds\")"
   ]
  },
  {
   "cell_type": "markdown",
   "id": "0a92f331",
   "metadata": {},
   "source": [
    "After the PCA, the range of the input values changed from 0,1 to -5,5."
   ]
  },
  {
   "cell_type": "code",
   "execution_count": 34,
   "id": "33968fce",
   "metadata": {},
   "outputs": [
    {
     "name": "stdout",
     "output_type": "stream",
     "text": [
      "Best parameters:  {'C': 1}\n",
      "Test accuracy:  1.0\n",
      "No parameters to tune for hard margin linear svm\n",
      "Test accuracy:  1.0\n",
      "Best parameters:  {'C': 1, 'gamma': 0.01}\n",
      "Test accuracy:  1.0\n",
      "Best parameters:  {'gamma': 0.01}\n",
      "Test accuracy:  1.0\n",
      "Best parameters:  {'C': 1, 'gamma': 0.01}\n",
      "Test accuracy:  1.0\n",
      "Best parameters:  {'gamma': 0.01}\n",
      "Test accuracy:  1.0\n",
      "Computation time:  0.40146684646606445 seconds\n"
     ]
    }
   ],
   "source": [
    "st=time.time()\n",
    "\n",
    "Soft_margin_b=SVC(kernel=\"linear\")\n",
    "grid_search= GridSearchCV(Soft_margin_b,param_grid_only_c,cv=5)\n",
    "grid_search.fit(X_pca,y)\n",
    "\n",
    "y_prediction = grid_search.predict(X_pca_test)\n",
    "print(\"Best parameters: \",grid_search.best_params_)\n",
    "print(\"Test accuracy: \",accuracy_score(y_prediction, y_test))\n",
    "\n",
    "Hard_margin_b=SVC(C=1e10,kernel=\"linear\")\n",
    "Hard_margin_b.fit(X_pca,y)\n",
    "\n",
    "y_prediction=Hard_margin_b.predict(X_pca_test)\n",
    "print(\"No parameters to tune for hard margin linear svm\")\n",
    "print(\"Test accuracy: \", accuracy_score(y_prediction,y_test))\n",
    "\n",
    "Soft_margin_poly_b=SVC(kernel=\"poly\",degree=3,coef0=1)\n",
    "grid_search= GridSearchCV(Soft_margin_poly_b,param_grid,cv=5)\n",
    "grid_search.fit(X_pca,y)\n",
    "\n",
    "y_prediction = grid_search.predict(X_pca_test)\n",
    "print(\"Best parameters: \",grid_search.best_params_)\n",
    "print(\"Test accuracy: \",accuracy_score(y_prediction, y_test))\n",
    "\n",
    "Hard_margin_poly_b=SVC(C=1e10,kernel=\"poly\",degree=3,coef0=1)\n",
    "grid_search= GridSearchCV(Hard_margin_poly_b,param_grid_only_gamma,cv=5)\n",
    "grid_search.fit(X_pca,y)\n",
    "\n",
    "y_prediction = grid_search.predict(X_pca_test)\n",
    "print(\"Best parameters: \",grid_search.best_params_)\n",
    "print(\"Test accuracy: \",accuracy_score(y_prediction, y_test))\n",
    "\n",
    "Soft_margin_rbf_b=SVC(kernel=\"rbf\")\n",
    "grid_search= GridSearchCV(Soft_margin_rbf_b,param_grid,cv=5)\n",
    "grid_search.fit(X_pca,y)\n",
    "\n",
    "y_prediction = grid_search.predict(X_pca_test)\n",
    "print(\"Best parameters: \",grid_search.best_params_)\n",
    "print(\"Test accuracy: \",accuracy_score(y_prediction, y_test))\n",
    "\n",
    "Hard_margin_rbf_b=SVC(C=1e10,kernel=\"rbf\")\n",
    "grid_search= GridSearchCV(Hard_margin_rbf_b,param_grid_only_gamma,cv=5)\n",
    "grid_search.fit(X_pca,y)\n",
    "\n",
    "y_prediction = grid_search.predict(X_pca_test)\n",
    "print(\"Best parameters: \",grid_search.best_params_)\n",
    "print(\"Test accuracy: \",accuracy_score(y_prediction, y_test))\n",
    "\n",
    "et=time.time()\n",
    "print(\"Computation time: \", et-st, \"seconds\")"
   ]
  },
  {
   "cell_type": "markdown",
   "id": "e5d1f546",
   "metadata": {},
   "source": [
    "This computation took about 0.8 seconds without PCA and about 0.35 seconds with PCA."
   ]
  },
  {
   "cell_type": "code",
   "execution_count": 35,
   "id": "df68cbc4",
   "metadata": {},
   "outputs": [
    {
     "name": "stdout",
     "output_type": "stream",
     "text": [
      "Computation time:  0.02198314666748047 seconds\n"
     ]
    }
   ],
   "source": [
    "st=time.time()\n",
    "\n",
    "gram_pca_train=laplacian_kernel(X_pca,gamma=0.1)\n",
    "gram_pca_test=laplacian_kernel(X_pca_test,X_pca,gamma=0.1)\n",
    "\n",
    "et=time.time()\n",
    "print(\"Computation time: \", et-st, \"seconds\")"
   ]
  },
  {
   "cell_type": "markdown",
   "id": "53e26e5e",
   "metadata": {},
   "source": [
    "This computation took about 0.27 seconds without PCA and about 0.02 seconds with PCA."
   ]
  },
  {
   "cell_type": "code",
   "execution_count": 36,
   "id": "88c6652e",
   "metadata": {},
   "outputs": [
    {
     "name": "stdout",
     "output_type": "stream",
     "text": [
      "Computation time:  0.006527423858642578 seconds\n"
     ]
    }
   ],
   "source": [
    "st=time.time()\n",
    "\n",
    "Soft_margin_laplace_b=SVC(C=1,kernel=\"precomputed\")\n",
    "Soft_margin_laplace_b.fit(gram_pca_train,y)\n",
    "\n",
    "Hard_margin_laplace_b=SVC(C=1e10,kernel=\"precomputed\")\n",
    "Hard_margin_laplace_b.fit(gram_pca_train,y)\n",
    "\n",
    "et=time.time()\n",
    "print(\"Computation time: \", et-st, \"seconds\")"
   ]
  },
  {
   "cell_type": "code",
   "execution_count": 37,
   "id": "3c81a925",
   "metadata": {
    "scrolled": true
   },
   "outputs": [
    {
     "name": "stdout",
     "output_type": "stream",
     "text": [
      "Test accuracy:  1.0\n",
      "Test accuracy:  1.0\n"
     ]
    }
   ],
   "source": [
    "\n",
    "y_prediction=Soft_margin_laplace_b.predict(gram_pca_test)\n",
    "print(\"Test accuracy: \", accuracy_score(y_prediction,y_test))\n",
    "\n",
    "y_prediction=Hard_margin_laplace_b.predict(gram_pca_test)\n",
    "print(\"Test accuracy: \", accuracy_score(y_prediction,y_test))"
   ]
  },
  {
   "cell_type": "markdown",
   "id": "22d03e82",
   "metadata": {},
   "source": [
    "**Multi class with original features section** "
   ]
  },
  {
   "cell_type": "code",
   "execution_count": 38,
   "id": "203caf6e",
   "metadata": {},
   "outputs": [
    {
     "name": "stdout",
     "output_type": "stream",
     "text": [
      "Shape before: (10000, 360) Shape after: (10000, 10) Max: 5.804994811073266 Min: -5.042658538920119\n",
      "Computation time:  0.10712909698486328 seconds\n"
     ]
    }
   ],
   "source": [
    "st=time.time()\n",
    "\n",
    "pca_multi=PCA(n_components=10)\n",
    "X_pca_multi=pca_multi.fit_transform(X_multi)\n",
    "X_pca_multi_test=pca_multi.transform(X_multi_test)\n",
    "print(\"Shape before:\", X_multi.shape, \"Shape after:\", X_pca_multi.shape, \"Max:\", np.max(X_pca_multi),\n",
    "      \"Min:\", np.min(X_pca_multi))\n",
    "\n",
    "\n",
    "et=time.time()\n",
    "print(\"Computation time: \", et-st, \"seconds\")"
   ]
  },
  {
   "cell_type": "markdown",
   "id": "f9c162d0",
   "metadata": {},
   "source": [
    "After the PCA, the range of the input values changed from 0,1 to -5,5."
   ]
  },
  {
   "cell_type": "code",
   "execution_count": 39,
   "id": "98194874",
   "metadata": {},
   "outputs": [
    {
     "name": "stdout",
     "output_type": "stream",
     "text": [
      "Best parameters:  {'C': 10}\n",
      "Test accuracy:  1.0\n",
      "No parameters to tune for hard margin linear svm\n",
      "Test accuracy:  1.0\n",
      "Best parameters:  {'C': 1, 'gamma': 0.1}\n",
      "Test accuracy:  1.0\n",
      "Best parameters:  {'gamma': 0.01}\n",
      "Test accuracy:  1.0\n",
      "Best parameters:  {'C': 10, 'gamma': 1}\n",
      "Test accuracy:  1.0\n",
      "Best parameters:  {'gamma': 0.01}\n",
      "Test accuracy:  1.0\n",
      "Computation time:  27.13097357749939 seconds\n"
     ]
    }
   ],
   "source": [
    "st=time.time()\n",
    "\n",
    "Soft_margin_m=SVC(kernel=\"linear\")\n",
    "grid_search= GridSearchCV(Soft_margin_m,param_grid_only_c,cv=5)\n",
    "grid_search.fit(X_pca_multi,y_multi)\n",
    "\n",
    "y_prediction = grid_search.predict(X_pca_multi_test)\n",
    "print(\"Best parameters: \",grid_search.best_params_)\n",
    "print(\"Test accuracy: \",accuracy_score(y_prediction, y_multi_test))\n",
    "\n",
    "Hard_margin_m=SVC(C=1e10,kernel=\"linear\")\n",
    "Hard_margin_m.fit(X_pca_multi,y_multi)\n",
    "\n",
    "y_prediction=Hard_margin_m.predict(X_pca_multi_test)\n",
    "print(\"No parameters to tune for hard margin linear svm\")\n",
    "print(\"Test accuracy: \", accuracy_score(y_prediction,y_multi_test))\n",
    "\n",
    "Soft_margin_poly_m=SVC(kernel=\"poly\",degree=3,coef0=1)\n",
    "grid_search= GridSearchCV(Soft_margin_poly_m,param_grid,cv=5)\n",
    "grid_search.fit(X_pca_multi,y_multi)\n",
    "\n",
    "y_prediction = grid_search.predict(X_pca_multi_test)\n",
    "print(\"Best parameters: \",grid_search.best_params_)\n",
    "print(\"Test accuracy: \",accuracy_score(y_prediction, y_multi_test))\n",
    "\n",
    "Hard_margin_poly_m=SVC(C=1e10,kernel=\"poly\",degree=3,coef0=1)\n",
    "grid_search= GridSearchCV(Hard_margin_poly_m,param_grid_only_gamma,cv=5)\n",
    "grid_search.fit(X_pca_multi,y_multi)\n",
    "\n",
    "y_prediction = grid_search.predict(X_pca_multi_test)\n",
    "print(\"Best parameters: \",grid_search.best_params_)\n",
    "print(\"Test accuracy: \",accuracy_score(y_prediction, y_multi_test))\n",
    "\n",
    "Soft_margin_rbf_m=SVC(kernel=\"rbf\")  \n",
    "grid_search= GridSearchCV(Soft_margin_rbf_m,param_grid,cv=5)\n",
    "grid_search.fit(X_pca_multi,y_multi)\n",
    "\n",
    "y_prediction = grid_search.predict(X_pca_multi_test)\n",
    "print(\"Best parameters: \",grid_search.best_params_)\n",
    "print(\"Test accuracy: \",accuracy_score(y_prediction, y_multi_test))\n",
    "\n",
    "Hard_margin_rbf_m=SVC(C=1e10,kernel=\"rbf\")\n",
    "grid_search= GridSearchCV(Hard_margin_rbf_m,param_grid_only_gamma,cv=5)\n",
    "grid_search.fit(X_pca_multi,y_multi)\n",
    "\n",
    "y_prediction = grid_search.predict(X_pca_multi_test)\n",
    "print(\"Best parameters: \",grid_search.best_params_)\n",
    "print(\"Test accuracy: \",accuracy_score(y_prediction, y_multi_test))\n",
    "\n",
    "\n",
    "et=time.time()\n",
    "print(\"Computation time: \", et-st, \"seconds\")"
   ]
  },
  {
   "cell_type": "markdown",
   "id": "d8752710",
   "metadata": {},
   "source": [
    "This computation took about 60 seconds without PCA and about 23 seconds with PCA."
   ]
  },
  {
   "cell_type": "code",
   "execution_count": 40,
   "id": "251f2c94",
   "metadata": {},
   "outputs": [
    {
     "name": "stdout",
     "output_type": "stream",
     "text": [
      "Computation time:  1.4929826259613037 seconds\n"
     ]
    }
   ],
   "source": [
    "st=time.time()\n",
    "\n",
    "gram_pca_multi_train=laplacian_kernel(X_pca_multi,gamma=0.1)\n",
    "gram_pca_multi_test=laplacian_kernel(X_pca_multi_test,X_pca_multi,gamma=0.1)\n",
    "\n",
    "\n",
    "et=time.time()\n",
    "print(\"Computation time: \", et-st, \"seconds\")"
   ]
  },
  {
   "cell_type": "markdown",
   "id": "73e9458c",
   "metadata": {},
   "source": [
    "This computation took about 20 seconds without PCA and about 1.5 seconds with PCA."
   ]
  },
  {
   "cell_type": "code",
   "execution_count": 41,
   "id": "7648b4b0",
   "metadata": {},
   "outputs": [
    {
     "name": "stdout",
     "output_type": "stream",
     "text": [
      "Computation time:  0.25344181060791016 seconds\n"
     ]
    }
   ],
   "source": [
    "st=time.time()\n",
    "\n",
    "Soft_margin_laplace_m=SVC(C=1,kernel=\"precomputed\")\n",
    "Soft_margin_laplace_m.fit(gram_pca_multi_train,y_multi)\n",
    "\n",
    "Hard_margin_laplace_m=SVC(C=1e10,kernel=\"precomputed\")\n",
    "Hard_margin_laplace_m.fit(gram_pca_multi_train,y_multi)\n",
    "\n",
    "et=time.time()\n",
    "print(\"Computation time: \", et-st, \"seconds\")"
   ]
  },
  {
   "cell_type": "code",
   "execution_count": 42,
   "id": "e96ef0c4",
   "metadata": {
    "scrolled": true
   },
   "outputs": [
    {
     "name": "stdout",
     "output_type": "stream",
     "text": [
      "Test accuracy: 1.0\n",
      "Test accuracy: 1.0\n"
     ]
    }
   ],
   "source": [
    "\n",
    "y_prediction=Soft_margin_laplace_m.predict(gram_pca_multi_test)\n",
    "print(\"Test accuracy:\", accuracy_score(y_prediction,y_multi_test))\n",
    "\n",
    "y_prediction=Hard_margin_laplace_m.predict(gram_pca_multi_test)\n",
    "print(\"Test accuracy:\", accuracy_score(y_prediction,y_multi_test))"
   ]
  },
  {
   "cell_type": "markdown",
   "id": "1eefe5c9",
   "metadata": {},
   "source": [
    "**Binary with LDA features section**"
   ]
  },
  {
   "cell_type": "markdown",
   "id": "67e9de9d",
   "metadata": {},
   "source": [
    "Again we used variances to determine the number of components. 20 seemed as a reasonable choice."
   ]
  },
  {
   "cell_type": "code",
   "execution_count": 43,
   "id": "a91406d0",
   "metadata": {},
   "outputs": [
    {
     "name": "stdout",
     "output_type": "stream",
     "text": [
      "Portion of the variance captured when we use 20 components (binary): 0.975184153692097\n"
     ]
    }
   ],
   "source": [
    "\n",
    "pca_full_try=PCA()\n",
    "X_full_try=pca_full_try.fit_transform(X_full)\n",
    "\n",
    "X_test_full_try=pca_full_try.transform(X_test_full)\n",
    "print(\"Portion of the variance captured when we use 20 components (binary):\", pca_full_try.explained_variance_ratio_[:20].sum())\n"
   ]
  },
  {
   "cell_type": "code",
   "execution_count": 44,
   "id": "3f7a30a1",
   "metadata": {},
   "outputs": [
    {
     "name": "stdout",
     "output_type": "stream",
     "text": [
      "Shape before: (1358, 4096) Shape after: (1358, 20) Max: 14.723148338003012 Min: -13.387380260806584\n",
      "Computation time:  0.2169797420501709 seconds\n"
     ]
    }
   ],
   "source": [
    "st=time.time()\n",
    "\n",
    "pca_full=PCA(n_components=20)\n",
    "X_pca_full=pca_full.fit_transform(X_full)\n",
    "X_pca_test_full=pca_full.transform(X_test_full)\n",
    "\n",
    "print(\"Shape before:\", X_full.shape, \"Shape after:\", X_pca_full.shape, \"Max:\", np.max(X_pca_full), \"Min:\", np.min(X_pca_full))\n",
    "et=time.time()\n",
    "print(\"Computation time: \", et-st, \"seconds\")"
   ]
  },
  {
   "cell_type": "markdown",
   "id": "a2da4236",
   "metadata": {},
   "source": [
    "After the PCA input dimension decreased from 4096 to 20 and the range of the input values changed from 0,1 to -15,15."
   ]
  },
  {
   "cell_type": "code",
   "execution_count": 45,
   "id": "5af2a619",
   "metadata": {
    "scrolled": true
   },
   "outputs": [
    {
     "name": "stdout",
     "output_type": "stream",
     "text": [
      "Shape before: (1358, 20) Shape after: (1358, 1) Max: 20.318012044612082 Min: -18.213430900566532\n",
      "Computation time:  0.0058629512786865234 seconds\n"
     ]
    }
   ],
   "source": [
    "st=time.time()\n",
    "\n",
    "lda=LDA(n_components=1)\n",
    "\n",
    "X_pca_lda=lda.fit_transform(X_pca_full,y)\n",
    "X_pca_lda_test=lda.transform(X_pca_test_full)\n",
    "print(\"Shape before:\", X_pca_full.shape, \"Shape after:\", X_pca_lda.shape, \"Max:\", np.max(X_pca_lda), \"Min:\", np.min(X_pca_lda))\n",
    "\n",
    "et=time.time()\n",
    "print(\"Computation time: \", et-st, \"seconds\")"
   ]
  },
  {
   "cell_type": "markdown",
   "id": "26f697ac",
   "metadata": {},
   "source": [
    "This computation took about 2 seconds without PCA and 0.13 seconds with PCA. (We took computation time of the PCA into account.)"
   ]
  },
  {
   "cell_type": "markdown",
   "id": "93be7ba1",
   "metadata": {},
   "source": [
    "After the LDA input dimension decreased from 20 to 1 (#of classes -1) and the range of the input values changed from -15,15 to -20,20."
   ]
  },
  {
   "cell_type": "code",
   "execution_count": 46,
   "id": "2d872ae1",
   "metadata": {},
   "outputs": [
    {
     "name": "stdout",
     "output_type": "stream",
     "text": [
      "Best parameters:  {'C': 1}\n",
      "Test accuracy:  1.0\n",
      "No parameters to tune for hard margin linear svm\n",
      "Test accuracy:  1.0\n",
      "Best parameters:  {'C': 1, 'gamma': 1e-05}\n",
      "Test accuracy:  1.0\n",
      "Best parameters:  {'gamma': 1e-05}\n",
      "Test accuracy:  1.0\n",
      "Best parameters:  {'C': 1, 'gamma': 1e-05}\n",
      "Test accuracy:  1.0\n",
      "Best parameters:  {'gamma': 1e-05}\n",
      "Test accuracy:  1.0\n",
      "Computation time:  0.2815408706665039 seconds\n"
     ]
    }
   ],
   "source": [
    "st=time.time()\n",
    "\n",
    "Soft_margin_b=SVC(kernel=\"linear\")\n",
    "grid_search= GridSearchCV(Soft_margin_b,param_grid_only_c,cv=5)\n",
    "grid_search.fit(X_pca_lda,y)\n",
    "\n",
    "y_prediction = grid_search.predict(X_pca_lda_test)\n",
    "print(\"Best parameters: \",grid_search.best_params_)\n",
    "print(\"Test accuracy: \",accuracy_score(y_prediction, y_test))\n",
    "\n",
    "Hard_margin_b=SVC(C=1e10,kernel=\"linear\")\n",
    "Hard_margin_b.fit(X_pca_lda,y)\n",
    "\n",
    "y_prediction=Hard_margin_b.predict(X_pca_lda_test)\n",
    "print(\"No parameters to tune for hard margin linear svm\")\n",
    "print(\"Test accuracy: \", accuracy_score(y_prediction,y_test))\n",
    "\n",
    "Soft_margin_poly_b=SVC(kernel=\"poly\",degree=3,coef0=1)\n",
    "grid_search= GridSearchCV(Soft_margin_poly_b,param_grid_lda,cv=5)\n",
    "grid_search.fit(X_pca_lda,y)\n",
    "\n",
    "y_prediction = grid_search.predict(X_pca_lda_test)\n",
    "print(\"Best parameters: \",grid_search.best_params_)\n",
    "print(\"Test accuracy: \",accuracy_score(y_prediction, y_test))\n",
    "\n",
    "Hard_margin_poly_b=SVC(C=1e10,kernel=\"poly\",degree=3,coef0=1)\n",
    "grid_search= GridSearchCV(Hard_margin_poly_b,param_grid_lda_only_gamma,cv=5)\n",
    "grid_search.fit(X_pca_lda,y)\n",
    "\n",
    "y_prediction = grid_search.predict(X_pca_lda_test)\n",
    "print(\"Best parameters: \",grid_search.best_params_)\n",
    "print(\"Test accuracy: \",accuracy_score(y_prediction, y_test))\n",
    "\n",
    "Soft_margin_rbf_b=SVC(kernel=\"rbf\")\n",
    "grid_search= GridSearchCV(Soft_margin_rbf_b,param_grid_lda,cv=5)\n",
    "grid_search.fit(X_pca_lda,y)\n",
    "\n",
    "y_prediction = grid_search.predict(X_pca_lda_test)\n",
    "print(\"Best parameters: \",grid_search.best_params_)\n",
    "print(\"Test accuracy: \",accuracy_score(y_prediction, y_test))\n",
    "\n",
    "Hard_margin_rbf_b=SVC(C=1e10,kernel=\"rbf\")\n",
    "grid_search= GridSearchCV(Hard_margin_rbf_b,param_grid_lda_only_gamma,cv=5)\n",
    "grid_search.fit(X_pca_lda,y)\n",
    "\n",
    "y_prediction = grid_search.predict(X_pca_lda_test)\n",
    "print(\"Best parameters: \",grid_search.best_params_)\n",
    "print(\"Test accuracy: \",accuracy_score(y_prediction, y_test))\n",
    "\n",
    "et=time.time()\n",
    "print(\"Computation time: \", et-st, \"seconds\")"
   ]
  },
  {
   "cell_type": "markdown",
   "id": "a2fabf48",
   "metadata": {},
   "source": [
    "This computation took about 0.15 seconds without PCA and about 0.25 seconds with PCA. PCA doesn't improve the time here because dimension after LDA is 1 with or without PCA."
   ]
  },
  {
   "cell_type": "code",
   "execution_count": 47,
   "id": "7880ba69",
   "metadata": {},
   "outputs": [
    {
     "name": "stdout",
     "output_type": "stream",
     "text": [
      "Computation time:  0.0185549259185791 seconds\n"
     ]
    }
   ],
   "source": [
    "st=time.time()\n",
    "\n",
    "gram_pca_lda_train=laplacian_kernel(X_pca_lda,gamma=0.1)\n",
    "gram_pca_lda_test=laplacian_kernel(X_pca_lda_test,X_pca_lda,gamma=0.1)\n",
    "\n",
    "et=time.time()\n",
    "print(\"Computation time: \", et-st, \"seconds\")"
   ]
  },
  {
   "cell_type": "code",
   "execution_count": 48,
   "id": "c102bf17",
   "metadata": {},
   "outputs": [
    {
     "name": "stdout",
     "output_type": "stream",
     "text": [
      "Computation time:  0.008021831512451172 seconds\n"
     ]
    }
   ],
   "source": [
    "st=time.time()\n",
    "\n",
    "Soft_margin_laplace_b=SVC(C=1,kernel=\"precomputed\")\n",
    "Soft_margin_laplace_b.fit(gram_pca_lda_train,y)\n",
    "\n",
    "Hard_margin_laplace_b=SVC(C=1e10,kernel=\"precomputed\")\n",
    "Hard_margin_laplace_b.fit(gram_pca_lda_train,y)\n",
    "\n",
    "et=time.time()\n",
    "print(\"Computation time: \", et-st, \"seconds\")"
   ]
  },
  {
   "cell_type": "code",
   "execution_count": 49,
   "id": "8b7d069c",
   "metadata": {},
   "outputs": [
    {
     "name": "stdout",
     "output_type": "stream",
     "text": [
      "Test accuracy:  1.0\n",
      "Test accuracy:  1.0\n"
     ]
    }
   ],
   "source": [
    "\n",
    "y_prediction=Soft_margin_laplace_b.predict(gram_pca_lda_test)\n",
    "print(\"Test accuracy: \", accuracy_score(y_prediction,y_test))\n",
    "\n",
    "y_prediction=Hard_margin_laplace_b.predict(gram_pca_lda_test)\n",
    "print(\"Test accuracy: \", accuracy_score(y_prediction,y_test))"
   ]
  },
  {
   "cell_type": "markdown",
   "id": "6e1d07c0",
   "metadata": {},
   "source": [
    "We used variances to determine the number of components for PCA in the multi class case too. 30 seemed adequate."
   ]
  },
  {
   "cell_type": "code",
   "execution_count": 50,
   "id": "cdeb399f",
   "metadata": {},
   "outputs": [
    {
     "name": "stdout",
     "output_type": "stream",
     "text": [
      "Portion of the variance captured when we use 30 components (multi class): 0.9725180088737144\n"
     ]
    }
   ],
   "source": [
    "pca_multi_full_try=PCA()\n",
    "X_multi_full_try=pca_multi_full_try.fit_transform(X_multi_full)\n",
    "\n",
    "X_multi_test_full_try=pca_multi_full_try.transform(X_multi_test_full)\n",
    "print(\"Portion of the variance captured when we use 30 components (multi class):\",\n",
    "      pca_multi_full_try.explained_variance_ratio_[:30].sum())\n"
   ]
  },
  {
   "cell_type": "code",
   "execution_count": 51,
   "id": "9c6ff927",
   "metadata": {},
   "outputs": [
    {
     "name": "stdout",
     "output_type": "stream",
     "text": [
      "Computation time:  1.2002041339874268 seconds\n",
      "Shape before: (10000, 4096) Shape after: (10000, 30) Max: 16.299421201556754 Min: -15.037098762756031\n"
     ]
    }
   ],
   "source": [
    "st=time.time()\n",
    "\n",
    "pca_multi_full=PCA(n_components=30)\n",
    "X_pca_multi_full=pca_multi_full.fit_transform(X_multi_full)\n",
    "X_pca_multi_test_full=pca_multi_full.transform(X_multi_test_full)\n",
    "\n",
    "et=time.time()\n",
    "print(\"Computation time: \", et-st, \"seconds\")\n",
    "\n",
    "print(\"Shape before:\", X_multi_full.shape, \"Shape after:\", X_pca_multi_full.shape,\n",
    "      \"Max:\", np.max(X_pca_multi_full), \"Min:\", np.min(X_pca_multi_full))"
   ]
  },
  {
   "cell_type": "markdown",
   "id": "7887f55b",
   "metadata": {},
   "source": [
    "After the PCA input dimension decreased from 4096 to 30 and the range of the input values changed from 0,1 to -15,15."
   ]
  },
  {
   "cell_type": "code",
   "execution_count": 52,
   "id": "21086fdc",
   "metadata": {},
   "outputs": [
    {
     "name": "stdout",
     "output_type": "stream",
     "text": [
      "(10000, 30)\n",
      "(10000, 14) 32.59953727301469 -30.005993121310137\n",
      "Computation time:  0.027896404266357422 seconds\n"
     ]
    }
   ],
   "source": [
    "st=time.time()\n",
    "\n",
    "lda=LDA(n_components=14)\n",
    "print(X_pca_multi_full.shape)\n",
    "X_pca_lda_multi=lda.fit_transform(X_pca_multi_full,y_multi)\n",
    "X_pca_lda_multi_test=lda.transform(X_pca_multi_test_full)\n",
    "print(X_pca_lda_multi.shape,np.max(X_pca_lda_multi),np.min(X_pca_lda_multi))\n",
    "\n",
    "et=time.time()\n",
    "print(\"Computation time: \", et-st, \"seconds\")"
   ]
  },
  {
   "cell_type": "markdown",
   "id": "17da8323",
   "metadata": {},
   "source": [
    "This computation took about 20 seconds without PCA and about 0.82 seconds with PCA. (We took computation time of the PCA into account.)"
   ]
  },
  {
   "cell_type": "markdown",
   "id": "5848dab2",
   "metadata": {},
   "source": [
    "After the LDA input dimension decreased from 30 to 14 (#of classes -1) and the range of the input values changed from -15,15 to -30,30."
   ]
  },
  {
   "cell_type": "code",
   "execution_count": 53,
   "id": "86ba8481",
   "metadata": {},
   "outputs": [
    {
     "name": "stdout",
     "output_type": "stream",
     "text": [
      "Best parameters:  {'C': 1}\n",
      "Test accuracy:  1.0\n",
      "No parameters to tune for hard margin linear svm\n",
      "Test accuracy:  1.0\n",
      "Best parameters:  {'C': 100, 'gamma': 0.0001}\n",
      "Test accuracy:  1.0\n",
      "Best parameters:  {'gamma': 0.001}\n",
      "Test accuracy:  1.0\n",
      "Best parameters:  {'C': 10, 'gamma': 0.001}\n",
      "Test accuracy:  1.0\n",
      "Best parameters:  {'gamma': 0.001}\n",
      "Test accuracy:  1.0\n",
      "Computation time:  40.04085326194763 seconds\n"
     ]
    }
   ],
   "source": [
    "st=time.time()\n",
    "\n",
    "Soft_margin_m=SVC(kernel=\"linear\")\n",
    "grid_search= GridSearchCV(Soft_margin_m,param_grid_only_c,cv=5)\n",
    "grid_search.fit(X_pca_lda_multi,y_multi)\n",
    "\n",
    "y_prediction = grid_search.predict(X_pca_lda_multi_test)\n",
    "print(\"Best parameters: \",grid_search.best_params_)\n",
    "print(\"Test accuracy: \",accuracy_score(y_prediction, y_multi_test))\n",
    "\n",
    "Hard_margin_m=SVC(C=1e10,kernel=\"linear\")\n",
    "Hard_margin_m.fit(X_pca_lda_multi,y_multi)\n",
    "\n",
    "y_prediction=Hard_margin_m.predict(X_pca_lda_multi_test)\n",
    "print(\"No parameters to tune for hard margin linear svm\")\n",
    "print(\"Test accuracy: \", accuracy_score(y_prediction,y_multi_test))\n",
    "\n",
    "Soft_margin_poly_m=SVC(kernel=\"poly\",degree=3,coef0=1)\n",
    "grid_search= GridSearchCV(Soft_margin_poly_m,param_grid_lda,cv=5)\n",
    "grid_search.fit(X_pca_lda_multi,y_multi)\n",
    "\n",
    "y_prediction = grid_search.predict(X_pca_lda_multi_test)\n",
    "print(\"Best parameters: \",grid_search.best_params_)\n",
    "print(\"Test accuracy: \",accuracy_score(y_prediction, y_multi_test))\n",
    "\n",
    "Hard_margin_poly_m=SVC(C=1e10,kernel=\"poly\",degree=3,coef0=1)\n",
    "grid_search= GridSearchCV(Hard_margin_poly_m,param_grid_lda_only_gamma,cv=5)\n",
    "grid_search.fit(X_pca_lda_multi,y_multi)\n",
    "\n",
    "y_prediction = grid_search.predict(X_pca_lda_multi_test)\n",
    "print(\"Best parameters: \",grid_search.best_params_)\n",
    "print(\"Test accuracy: \",accuracy_score(y_prediction, y_multi_test))\n",
    "\n",
    "Soft_margin_rbf_m=SVC(kernel=\"rbf\")  \n",
    "grid_search= GridSearchCV(Soft_margin_rbf_m,param_grid_lda,cv=5)\n",
    "grid_search.fit(X_pca_lda_multi,y_multi)\n",
    "\n",
    "y_prediction = grid_search.predict(X_pca_lda_multi_test)\n",
    "print(\"Best parameters: \",grid_search.best_params_)\n",
    "print(\"Test accuracy: \",accuracy_score(y_prediction, y_multi_test))\n",
    "\n",
    "Hard_margin_rbf_m=SVC(C=1e10,kernel=\"rbf\")\n",
    "grid_search= GridSearchCV(Hard_margin_rbf_m,param_grid_lda_only_gamma,cv=5)\n",
    "grid_search.fit(X_pca_lda_multi,y_multi)\n",
    "\n",
    "y_prediction = grid_search.predict(X_pca_lda_multi_test)\n",
    "print(\"Best parameters: \",grid_search.best_params_)\n",
    "print(\"Test accuracy: \",accuracy_score(y_prediction, y_multi_test))\n",
    "\n",
    "et=time.time()\n",
    "print(\"Computation time: \", et-st, \"seconds\")"
   ]
  },
  {
   "cell_type": "markdown",
   "id": "1c62e89a",
   "metadata": {},
   "source": [
    "This computation took about 6 seconds without PCA and about 33 seconds with PCA. The main reason for longer time is that the parameter grids are not that well suited for -30,30 range."
   ]
  },
  {
   "cell_type": "code",
   "execution_count": 54,
   "id": "edae1af5",
   "metadata": {},
   "outputs": [
    {
     "name": "stdout",
     "output_type": "stream",
     "text": [
      "Computation time:  1.4997642040252686 seconds\n"
     ]
    }
   ],
   "source": [
    "st=time.time()\n",
    "gram_pca_lda_multi_train=laplacian_kernel(X_pca_lda_multi,gamma=0.05)\n",
    "gram_pca_lda_multi_test=laplacian_kernel(X_pca_lda_multi_test,X_pca_lda_multi,gamma=0.05)\n",
    "\n",
    "et=time.time()\n",
    "print(\"Computation time: \", et-st, \"seconds\")"
   ]
  },
  {
   "cell_type": "code",
   "execution_count": 55,
   "id": "1dd8e1f1",
   "metadata": {},
   "outputs": [
    {
     "name": "stdout",
     "output_type": "stream",
     "text": [
      "Computation time:  0.36092257499694824 seconds\n"
     ]
    }
   ],
   "source": [
    "st=time.time()\n",
    "\n",
    "Soft_margin_laplace_m=SVC(C=1,kernel=\"precomputed\")\n",
    "Soft_margin_laplace_m.fit(gram_pca_lda_multi_train,y_multi)\n",
    "\n",
    "Hard_margin_laplace_m=SVC(C=1e10,kernel=\"precomputed\")\n",
    "Hard_margin_laplace_m.fit(gram_pca_lda_multi_train,y_multi)\n",
    "\n",
    "et=time.time()\n",
    "print(\"Computation time: \", et-st, \"seconds\")"
   ]
  },
  {
   "cell_type": "code",
   "execution_count": 56,
   "id": "6b046e9d",
   "metadata": {},
   "outputs": [
    {
     "name": "stdout",
     "output_type": "stream",
     "text": [
      "Test accuracy: 1.0\n",
      "Test accuracy: 1.0\n"
     ]
    }
   ],
   "source": [
    "\n",
    "y_prediction=Soft_margin_laplace_m.predict(gram_pca_lda_multi_test)\n",
    "print(\"Test accuracy:\", accuracy_score(y_prediction,y_multi_test))\n",
    "\n",
    "y_prediction=Hard_margin_laplace_m.predict(gram_pca_lda_multi_test)\n",
    "print(\"Test accuracy:\", accuracy_score(y_prediction,y_multi_test))"
   ]
  },
  {
   "cell_type": "markdown",
   "id": "13b2a754",
   "metadata": {},
   "source": [
    "In conclusion, using PCA beforehand improves the computation times in general. "
   ]
  },
  {
   "cell_type": "markdown",
   "id": "906bfc33",
   "metadata": {},
   "source": [
    "**Question 2)**"
   ]
  },
  {
   "cell_type": "markdown",
   "id": "6965013c",
   "metadata": {},
   "source": [
    "**A)**"
   ]
  },
  {
   "cell_type": "markdown",
   "id": "8262d96b",
   "metadata": {},
   "source": [
    "Since the weights of the normal distributions are equal to 1/4 we first choose a random number between 0,3 inclusively. Then we choose a random sample from the bivariate normal distribution that is correspondent to the first number we chose. Different colors represent different distributions."
   ]
  },
  {
   "cell_type": "code",
   "execution_count": 57,
   "id": "d41d3a8a",
   "metadata": {
    "scrolled": true
   },
   "outputs": [
    {
     "data": {
      "image/png": "[encoded data removed]",
      "text/plain": [
       "<Figure size 640x480 with 1 Axes>"
      ]
     },
     "metadata": {},
     "output_type": "display_data"
    }
   ],
   "source": [
    "np.random.seed(42)\n",
    "means=[[0,1],[1,0],[-1,0],[0,-1]]\n",
    "cov=[[1,0],[0,1]]\n",
    "\n",
    "samples_x=[]\n",
    "samples_y=[]\n",
    "labels=[]\n",
    "for i in range(500):\n",
    "    a=np.random.choice(list(range(4)),1)\n",
    "    rv = multivariate_normal.rvs(means[a[0]], cov, size=1)\n",
    "    samples_x.append(rv[0])\n",
    "    samples_y.append(rv[1])\n",
    "    labels.append(a[0])\n",
    "samples=np.column_stack((samples_x,samples_y))\n",
    "colors=[\"red\",\"blue\",\"green\",\"black\"]\n",
    "for i in range(4):\n",
    "    indices=list(filter(lambda x:labels[x]==i,list(range(len(samples_x)))))\n",
    "    plot_x=[samples_x[j] for j in indices]\n",
    "    plot_y=[samples_y[j] for j in indices]\n",
    "    plt.scatter(plot_x,plot_y,c=colors[i])\n",
    "\n",
    "plt.show()"
   ]
  },
  {
   "cell_type": "markdown",
   "id": "9db3c9f6",
   "metadata": {},
   "source": [
    "We used multiple runs technique to decrease the effect of initialization of centroids. We run the k-means for an amount given in \"runs\" parameter and return the best clustering in terms of SSE(sum of squared errors). There will be 2 plots after the below cell is run. First one is colored to show original distributions and the second one is colored to show clustering."
   ]
  },
  {
   "cell_type": "code",
   "execution_count": 58,
   "id": "cd8a605a",
   "metadata": {
    "scrolled": true
   },
   "outputs": [
    {
     "data": {
      "image/png": "[encoded data removed]",
      "text/plain": [
       "<Figure size 640x480 with 1 Axes>"
      ]
     },
     "metadata": {},
     "output_type": "display_data"
    },
    {
     "data": {
      "image/png": "[encoded data removed]",
      "text/plain": [
       "<Figure size 640x480 with 1 Axes>"
      ]
     },
     "metadata": {},
     "output_type": "display_data"
    }
   ],
   "source": [
    "\n",
    "\n",
    "\n",
    "def dist(x,y):\n",
    "    return np.sqrt((x[0]-y[0])**2+(x[1]-y[1])**2)\n",
    " \n",
    "\n",
    "def k_means(points,k,runs):\n",
    "    final_assignments=[]\n",
    "    final_centroids=[]\n",
    "    for run in range(runs):\n",
    "        changed=True\n",
    "        centroids=points[np.random.choice(points.shape[0], k, replace=False)]\n",
    "        assignments=[0 for i in range(len(points))]\n",
    "        assignments_old=[]\n",
    "        min_sse=1e10\n",
    "        \n",
    "        while(changed==True):\n",
    "\n",
    "            assignments_old=assignments.copy()\n",
    "            for j in range(len(points)):\n",
    "                distance_to_centroids=[dist(points[j],centroids[i]) for i in range(k)]\n",
    "                assignments[j]=np.argmin(distance_to_centroids)\n",
    "\n",
    "            if (assignments==assignments_old):\n",
    "                changed=False\n",
    "\n",
    "           \n",
    "            for a in range(k):\n",
    "                summ=(0,0)\n",
    "                count=0\n",
    "                for b in range(len(points)):\n",
    "                    if(assignments[b]==a):\n",
    "                        summ+=points[b]\n",
    "                        count+=1\n",
    "                centroids[a]=summ/count\n",
    "        curr_sse=0\n",
    "        for m in range(len(points)):\n",
    "            curr_sse+=dist(points[m],centroids[assignments[m]])**2\n",
    "        if(curr_sse < min_sse):\n",
    "            curr_sse = min_sse\n",
    "            final_assignments = assignments\n",
    "            final_centroids = centroids\n",
    "        \n",
    "    return [final_assignments, final_centroids]\n",
    "\n",
    "output=k_means(samples,4,20)\n",
    "assignments=output[0]\n",
    "\n",
    "\n",
    "colors=[\"red\",\"blue\",\"green\",\"black\"]\n",
    "for i in range(4):\n",
    "    indices=list(filter(lambda x:labels[x]==i,list(range(len(samples_x)))))\n",
    "    plot_x=[samples_x[j] for j in indices]\n",
    "    plot_y=[samples_y[j] for j in indices]\n",
    "    plt.scatter(plot_x,plot_y,c=colors[i])\n",
    "\n",
    "plt.show()\n",
    "\n",
    "colors2=[\"cyan\",\"magenta\",\"brown\",\"yellow\"]\n",
    "for i in range(4):\n",
    "    indices=list(filter(lambda x:assignments[x]==i,list(range(len(samples_x)))))\n",
    "    plot_x=[samples_x[j] for j in indices]\n",
    "    plot_y=[samples_y[j] for j in indices]\n",
    "    plt.scatter(plot_x,plot_y,c=colors2[i])\n",
    "\n",
    "plot_x=[output[1][i][0] for i in range(4)]\n",
    "plot_y=[output[1][i][1] for i in range(4)]\n",
    "plt.scatter(plot_x,plot_y,c=\"orange\")\n",
    "\n",
    "plt.show()\n",
    "\n"
   ]
  },
  {
   "cell_type": "markdown",
   "id": "af148d1a",
   "metadata": {},
   "source": [
    "As we can see, the clustering can't recreate the original distributions. However, this is normal because original distributions are not distinguishable. Let's say we have a point (0.5,0.5) which can come from the first distribution or the second distribution equally likely. If we reduce the covariance matrix to 1/10th of the original, we get distinguishable distributions which we implement below."
   ]
  },
  {
   "cell_type": "code",
   "execution_count": 59,
   "id": "8b662e38",
   "metadata": {},
   "outputs": [
    {
     "data": {
      "image/png": "[encoded data removed]",
      "text/plain": [
       "<Figure size 640x480 with 1 Axes>"
      ]
     },
     "metadata": {},
     "output_type": "display_data"
    }
   ],
   "source": [
    "np.random.seed(42)\n",
    "means=[[0,1],[1,0],[-1,0],[0,-1]]\n",
    "cov=[[0.1,0],[0,0.1]]\n",
    "\n",
    "samples_x=[]\n",
    "samples_y=[]\n",
    "labels=[]\n",
    "for i in range(500):\n",
    "    a=np.random.choice(list(range(4)),1)\n",
    "    rv = multivariate_normal.rvs(means[a[0]], cov, size=1)\n",
    "    samples_x.append(rv[0])\n",
    "    samples_y.append(rv[1])\n",
    "    labels.append(a[0])\n",
    "samples=np.column_stack((samples_x,samples_y))\n",
    "colors=[\"red\",\"blue\",\"green\",\"black\"]\n",
    "for i in range(4):\n",
    "    indices=list(filter(lambda x:labels[x]==i,list(range(len(samples_x)))))\n",
    "    plot_x=[samples_x[j] for j in indices]\n",
    "    plot_y=[samples_y[j] for j in indices]\n",
    "    plt.scatter(plot_x,plot_y,c=colors[i])\n",
    "\n",
    "plt.show()"
   ]
  },
  {
   "cell_type": "code",
   "execution_count": 60,
   "id": "e362fb18",
   "metadata": {},
   "outputs": [
    {
     "data": {
      "image/png": "[encoded data removed]",
      "text/plain": [
       "<Figure size 640x480 with 1 Axes>"
      ]
     },
     "metadata": {},
     "output_type": "display_data"
    },
    {
     "data": {
      "image/png": "[encoded data removed]",
      "text/plain": [
       "<Figure size 640x480 with 1 Axes>"
      ]
     },
     "metadata": {},
     "output_type": "display_data"
    }
   ],
   "source": [
    "output=k_means(samples,4,20)\n",
    "assignments=output[0]\n",
    "\n",
    "\n",
    "colors=[\"red\",\"blue\",\"green\",\"black\"]\n",
    "for i in range(4):\n",
    "    indices=list(filter(lambda x:labels[x]==i,list(range(len(samples_x)))))\n",
    "    plot_x=[samples_x[j] for j in indices]\n",
    "    plot_y=[samples_y[j] for j in indices]\n",
    "    plt.scatter(plot_x,plot_y,c=colors[i])\n",
    "\n",
    "plt.show()\n",
    "\n",
    "colors2=[\"cyan\",\"magenta\",\"brown\",\"yellow\"]\n",
    "for i in range(4):\n",
    "    indices=list(filter(lambda x:assignments[x]==i,list(range(len(samples_x)))))\n",
    "    plot_x=[samples_x[j] for j in indices]\n",
    "    plot_y=[samples_y[j] for j in indices]\n",
    "    plt.scatter(plot_x,plot_y,c=colors2[i])\n",
    "\n",
    "plot_x=[output[1][i][0] for i in range(4)]\n",
    "plot_y=[output[1][i][1] for i in range(4)]\n",
    "plt.scatter(plot_x,plot_y,c=\"orange\")\n",
    "\n",
    "plt.show()"
   ]
  },
  {
   "cell_type": "markdown",
   "id": "cccf2cb9",
   "metadata": {},
   "source": [
    "As we can see, the clustering can recreate the original distributions almost exactly. Even the centroids are very close to the actual means."
   ]
  },
  {
   "cell_type": "code",
   "execution_count": null,
   "id": "c64d56f8",
   "metadata": {},
   "outputs": [],
   "source": []
  }
 ],
 "metadata": {
  "kernelspec": {
   "display_name": "Python 3 (ipykernel)",
   "language": "python",
   "name": "python3"
  },
  "language_info": {
   "codemirror_mode": {
    "name": "ipython",
    "version": 3
   },
   "file_extension": ".py",
   "mimetype": "text/x-python",
   "name": "python",
   "nbconvert_exporter": "python",
   "pygments_lexer": "ipython3",
   "version": "3.9.13"
  }
 },
 "nbformat": 4,
 "nbformat_minor": 5
}
